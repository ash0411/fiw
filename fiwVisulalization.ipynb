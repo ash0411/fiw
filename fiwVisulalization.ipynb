{
  "nbformat": 4,
  "nbformat_minor": 0,
  "metadata": {
    "colab": {
      "name": "fiwVisulalization.ipynb",
      "provenance": [],
      "mount_file_id": "14xk-nzlhe1jyVwtWZcqHZgreEgH60mAB",
      "authorship_tag": "ABX9TyPri7bxYwcFNCfi+XzQkonq",
      "include_colab_link": true
    },
    "kernelspec": {
      "name": "python3",
      "display_name": "Python 3"
    },
    "language_info": {
      "name": "python"
    }
  },
  "cells": [
    {
      "cell_type": "markdown",
      "metadata": {
        "id": "view-in-github",
        "colab_type": "text"
      },
      "source": [
        "<a href=\"https://colab.research.google.com/github/ash0411/fiw/blob/main/fiwVisulalization.ipynb\" target=\"_parent\"><img src=\"https://colab.research.google.com/assets/colab-badge.svg\" alt=\"Open In Colab\"/></a>"
      ]
    },
    {
      "cell_type": "code",
      "metadata": {
        "id": "jnKbvDzan29X"
      },
      "source": [
        "import numpy as np\n",
        "import pandas as pd\n",
        "import matplotlib.pyplot as plt\n",
        "import seaborn as sns\n",
        "from tensorflow.keras.preprocessing import image\n",
        "from glob import glob\n",
        "from collections import defaultdict"
      ],
      "execution_count": 107,
      "outputs": []
    },
    {
      "cell_type": "code",
      "metadata": {
        "colab": {
          "base_uri": "https://localhost:8080/"
        },
        "id": "RpnGq9-DoPPX",
        "outputId": "c8c6c00a-6dc6-422a-d403-620daa75f396"
      },
      "source": [
        "!rmdir /root/.kaggle\n",
        "!mkdir /root/.kaggle\n",
        "!cp kaggle.json /root/.kaggle\n",
        "!chmod 600 /root/.kaggle/kaggle.json"
      ],
      "execution_count": 3,
      "outputs": [
        {
          "output_type": "stream",
          "name": "stdout",
          "text": [
            "rmdir: failed to remove '/root/.kaggle': No such file or directory\n"
          ]
        }
      ]
    },
    {
      "cell_type": "code",
      "metadata": {
        "colab": {
          "base_uri": "https://localhost:8080/"
        },
        "id": "NEcrdoUGoo_u",
        "outputId": "4d63ec4f-995c-4e89-9dc3-f12763c7ae74"
      },
      "source": [
        "!kaggle competitions download -c recognizing-faces-in-the-wild"
      ],
      "execution_count": 5,
      "outputs": [
        {
          "output_type": "stream",
          "name": "stdout",
          "text": [
            "Warning: Looks like you're using an outdated API Version, please consider updating (server 1.5.12 / client 1.5.4)\n",
            "Downloading train-faces.zip to /content\n",
            "100% 111M/111M [00:00<00:00, 114MB/s]  \n",
            "100% 111M/111M [00:00<00:00, 120MB/s]\n",
            "Downloading test-faces.zip to /content\n",
            " 59% 16.0M/27.1M [00:00<00:00, 49.5MB/s]\n",
            "100% 27.1M/27.1M [00:00<00:00, 88.0MB/s]\n",
            "Downloading README.md to /content\n",
            "  0% 0.00/1.47k [00:00<?, ?B/s]\n",
            "100% 1.47k/1.47k [00:00<00:00, 1.48MB/s]\n",
            "Downloading train_relationships.csv to /content\n",
            "  0% 0.00/77.6k [00:00<?, ?B/s]\n",
            "100% 77.6k/77.6k [00:00<00:00, 88.9MB/s]\n",
            "Downloading test.zip to /content\n",
            " 79% 27.0M/34.1M [00:00<00:00, 40.2MB/s]\n",
            "100% 34.1M/34.1M [00:00<00:00, 69.4MB/s]\n",
            "Downloading test-public-faces.zip to /content\n",
            " 97% 126M/130M [00:01<00:00, 88.0MB/s]\n",
            "100% 130M/130M [00:01<00:00, 71.9MB/s]\n",
            "Downloading test-private-labels.zip to /content\n",
            "  0% 0.00/8.67k [00:00<?, ?B/s]\n",
            "100% 8.67k/8.67k [00:00<00:00, 8.82MB/s]\n",
            "Downloading test-private-lists.zip to /content\n",
            "  0% 0.00/354k [00:00<?, ?B/s]\n",
            "100% 354k/354k [00:00<00:00, 116MB/s]\n",
            "Downloading sample_submission.csv to /content\n",
            "  0% 0.00/156k [00:00<?, ?B/s]\n",
            "100% 156k/156k [00:00<00:00, 41.9MB/s]\n",
            "Downloading train.zip to /content\n",
            " 80% 55.0M/68.6M [00:00<00:00, 68.6MB/s]\n",
            "100% 68.6M/68.6M [00:00<00:00, 100MB/s] \n",
            "Downloading test-public-lists.zip to /content\n",
            "  0% 0.00/33.7k [00:00<?, ?B/s]\n",
            "100% 33.7k/33.7k [00:00<00:00, 34.9MB/s]\n",
            "Downloading test-private-faces.zip to /content\n",
            " 87% 26.0M/29.7M [00:00<00:00, 40.2MB/s]\n",
            "100% 29.7M/29.7M [00:00<00:00, 66.5MB/s]\n"
          ]
        }
      ]
    },
    {
      "cell_type": "code",
      "metadata": {
        "colab": {
          "base_uri": "https://localhost:8080/"
        },
        "id": "KwfIaAVVogEu",
        "outputId": "d76e59e5-4d65-4858-a064-4fa7f16e84a3"
      },
      "source": [
        "#uncomment these when running\n",
        "import os\n",
        "!mkdir face\n",
        "#!unzip 'train.zip' -d '/content/face/train'\n",
        "#!unzip 'test.zip' -d '/content/face/test'"
      ],
      "execution_count": 175,
      "outputs": [
        {
          "output_type": "stream",
          "name": "stdout",
          "text": [
            "mkdir: cannot create directory ‘face’: File exists\n"
          ]
        }
      ]
    },
    {
      "cell_type": "code",
      "metadata": {
        "id": "Y0IctaIDpzyP"
      },
      "source": [
        "df = pd.read_csv('train_relationships.csv')"
      ],
      "execution_count": 62,
      "outputs": []
    },
    {
      "cell_type": "code",
      "metadata": {
        "colab": {
          "base_uri": "https://localhost:8080/",
          "height": 175
        },
        "id": "bOgg9pUkp7KE",
        "outputId": "2c4b0aab-7dae-485a-deca-7eb14361cad6"
      },
      "source": [
        "df.describe()"
      ],
      "execution_count": 9,
      "outputs": [
        {
          "output_type": "execute_result",
          "data": {
            "text/html": [
              "<div>\n",
              "<style scoped>\n",
              "    .dataframe tbody tr th:only-of-type {\n",
              "        vertical-align: middle;\n",
              "    }\n",
              "\n",
              "    .dataframe tbody tr th {\n",
              "        vertical-align: top;\n",
              "    }\n",
              "\n",
              "    .dataframe thead th {\n",
              "        text-align: right;\n",
              "    }\n",
              "</style>\n",
              "<table border=\"1\" class=\"dataframe\">\n",
              "  <thead>\n",
              "    <tr style=\"text-align: right;\">\n",
              "      <th></th>\n",
              "      <th>p1</th>\n",
              "      <th>p2</th>\n",
              "    </tr>\n",
              "  </thead>\n",
              "  <tbody>\n",
              "    <tr>\n",
              "      <th>count</th>\n",
              "      <td>3598</td>\n",
              "      <td>3598</td>\n",
              "    </tr>\n",
              "    <tr>\n",
              "      <th>unique</th>\n",
              "      <td>1725</td>\n",
              "      <td>1439</td>\n",
              "    </tr>\n",
              "    <tr>\n",
              "      <th>top</th>\n",
              "      <td>F0825/MID5</td>\n",
              "      <td>F0690/MID10</td>\n",
              "    </tr>\n",
              "    <tr>\n",
              "      <th>freq</th>\n",
              "      <td>9</td>\n",
              "      <td>8</td>\n",
              "    </tr>\n",
              "  </tbody>\n",
              "</table>\n",
              "</div>"
            ],
            "text/plain": [
              "                p1           p2\n",
              "count         3598         3598\n",
              "unique        1725         1439\n",
              "top     F0825/MID5  F0690/MID10\n",
              "freq             9            8"
            ]
          },
          "metadata": {},
          "execution_count": 9
        }
      ]
    },
    {
      "cell_type": "code",
      "metadata": {
        "id": "gel5fecaqaqK"
      },
      "source": [
        "def read_img(path):\n",
        "    img = image.load_img(path, target_size=(224, 224))\n",
        "    #plt.imshow(img)\n",
        "    img = np.array(img).astype(np.float)#reshape(3,224,224)\n",
        "    return img"
      ],
      "execution_count": 13,
      "outputs": []
    },
    {
      "cell_type": "code",
      "metadata": {
        "colab": {
          "base_uri": "https://localhost:8080/"
        },
        "id": "Y5OW3S_cp7HY",
        "outputId": "83d243cb-cee6-4c8a-d784-e784eee2b005"
      },
      "source": [
        "# finding the number of families in training and putting them in a list\n",
        "train_url =  '/content/face/train/'\n",
        "family = os.listdir(train_url)\n",
        "print('the number of families are {}'.format(len(family)))\n",
        "print(family[:10])"
      ],
      "execution_count": 17,
      "outputs": [
        {
          "output_type": "stream",
          "name": "stdout",
          "text": [
            "the number of families are 470\n",
            "['F0816', 'F0245', 'F0903', 'F0997', 'F0769', 'F0832', 'F0971', 'F0227', 'F0122', 'F0850']\n"
          ]
        }
      ]
    },
    {
      "cell_type": "code",
      "metadata": {
        "colab": {
          "base_uri": "https://localhost:8080/",
          "height": 281
        },
        "id": "Bv_lZRK-p7EN",
        "outputId": "2cdfeea7-9145-4019-fe2c-ef0af6d55238"
      },
      "source": [
        "#finding the number of families in the test case and putting them in a list\n",
        "test_url =  '/content/face/test/'\n",
        "family_pics = os.listdir(test_url)\n",
        "print(\"the number of pictures in the testing set are  {}\".format(len(family_pics)))\n",
        "for i in range(9):\n",
        "  img = read_img(test_url + family_pics[i])\n",
        "  ax = plt.subplot(3, 3, i + 1)\n",
        "  plt.imshow(img.astype(\"uint8\"))\n",
        "  plt.title(family_pics[i])\n",
        "  plt.axis('off')"
      ],
      "execution_count": 16,
      "outputs": [
        {
          "output_type": "stream",
          "name": "stdout",
          "text": [
            "the number of pictures in the testing set are  6282\n"
          ]
        },
        {
          "output_type": "display_data",
          "data": {
            "image/png": "[encoded data removed]",
            "text/plain": [
              "<Figure size 432x288 with 9 Axes>"
            ]
          },
          "metadata": {
            "needs_background": "light"
          }
        }
      ]
    },
    {
      "cell_type": "code",
      "metadata": {
        "id": "pmfOJ5djp7Bc"
      },
      "source": [
        "# to list out all the members of a particular family\n",
        "members = {i:sorted(os.listdir(train_url+i)) for i in family}"
      ],
      "execution_count": 116,
      "outputs": []
    },
    {
      "cell_type": "code",
      "metadata": {
        "colab": {
          "base_uri": "https://localhost:8080/"
        },
        "id": "ZH-uELryomDf",
        "outputId": "edab014a-b2e4-4169-c9d7-2c019f1c4bd5"
      },
      "source": [
        "member_count = 0\n",
        "member_count_per_family = []\n",
        "for i in members:\n",
        "  member_count_per_family.append(len(members[i]))\n",
        "  member_count += len(members[i])\n",
        "print('The total number of people in the training dataset are {}'.format(member_count))"
      ],
      "execution_count": 39,
      "outputs": [
        {
          "output_type": "stream",
          "name": "stdout",
          "text": [
            "The total number of people in the training dataset are 2318\n"
          ]
        }
      ]
    },
    {
      "cell_type": "code",
      "metadata": {
        "id": "6ODCU3F-wU4n"
      },
      "source": [
        "from math import ceil"
      ],
      "execution_count": 36,
      "outputs": []
    },
    {
      "cell_type": "code",
      "metadata": {
        "colab": {
          "base_uri": "https://localhost:8080/"
        },
        "id": "2qKLFeeFsO0c",
        "outputId": "87a9692a-a086-49a8-d2a5-22251425a1d1"
      },
      "source": [
        "print('the average number of people in a family is {} for the training dataset'.format(ceil(member_count/len(family))))"
      ],
      "execution_count": 37,
      "outputs": [
        {
          "output_type": "stream",
          "name": "stdout",
          "text": [
            "the average number of people in a family is 5 for the training dataset\n"
          ]
        }
      ]
    },
    {
      "cell_type": "code",
      "metadata": {
        "colab": {
          "base_uri": "https://localhost:8080/",
          "height": 419
        },
        "id": "wZW8OMr3tHrP",
        "outputId": "9ce6224b-8d45-45bd-c425-016f322a5e20"
      },
      "source": [
        "# this is a bar graph of the first 15 families \n",
        "fig = plt.figure()\n",
        "ax = fig.add_axes([0,0,1,1])\n",
        "names = family[:15]\n",
        "number = member_count_per_family[:15]\n",
        "plt.xlabel('Name of family')\n",
        "plt.ylabel('Number of members')\n",
        "ax.bar(names,number)\n",
        "plt.setp(ax.get_xticklabels(), rotation=30, horizontalalignment='right')\n",
        "fig.tight_layout()"
      ],
      "execution_count": 129,
      "outputs": [
        {
          "output_type": "stream",
          "name": "stderr",
          "text": [
            "/usr/local/lib/python3.7/dist-packages/ipykernel_launcher.py:10: UserWarning: This figure includes Axes that are not compatible with tight_layout, so results might be incorrect.\n",
            "  # Remove the CWD from sys.path while we load stuff.\n"
          ]
        },
        {
          "output_type": "display_data",
          "data": {
            "image/png": "[encoded data removed]",
            "text/plain": [
              "<Figure size 432x288 with 1 Axes>"
            ]
          },
          "metadata": {
            "needs_background": "light"
          }
        }
      ]
    },
    {
      "cell_type": "code",
      "metadata": {
        "id": "YUDITq2hxXgu"
      },
      "source": [
        "# making a dictionary of member count and family\n",
        "my_dict = {}\n",
        "my_dict['family_name'] = family\n",
        "my_dict['member_count'] = member_count_per_family"
      ],
      "execution_count": 55,
      "outputs": []
    },
    {
      "cell_type": "code",
      "metadata": {
        "id": "Qi0kNUIOxolh"
      },
      "source": [
        "# making a dataframe of the family, member count\n",
        "family_member_df =pd.DataFrame.from_dict(my_dict,orient='index').transpose()"
      ],
      "execution_count": 63,
      "outputs": []
    },
    {
      "cell_type": "code",
      "metadata": {
        "colab": {
          "base_uri": "https://localhost:8080/",
          "height": 206
        },
        "id": "-87gultw0cMa",
        "outputId": "eae7b1d6-686f-40df-c7f3-e7d66eda42e7"
      },
      "source": [
        "family_member_df.head()"
      ],
      "execution_count": 64,
      "outputs": [
        {
          "output_type": "execute_result",
          "data": {
            "text/html": [
              "<div>\n",
              "<style scoped>\n",
              "    .dataframe tbody tr th:only-of-type {\n",
              "        vertical-align: middle;\n",
              "    }\n",
              "\n",
              "    .dataframe tbody tr th {\n",
              "        vertical-align: top;\n",
              "    }\n",
              "\n",
              "    .dataframe thead th {\n",
              "        text-align: right;\n",
              "    }\n",
              "</style>\n",
              "<table border=\"1\" class=\"dataframe\">\n",
              "  <thead>\n",
              "    <tr style=\"text-align: right;\">\n",
              "      <th></th>\n",
              "      <th>family_name</th>\n",
              "      <th>member_count</th>\n",
              "    </tr>\n",
              "  </thead>\n",
              "  <tbody>\n",
              "    <tr>\n",
              "      <th>0</th>\n",
              "      <td>F0816</td>\n",
              "      <td>5</td>\n",
              "    </tr>\n",
              "    <tr>\n",
              "      <th>1</th>\n",
              "      <td>F0245</td>\n",
              "      <td>5</td>\n",
              "    </tr>\n",
              "    <tr>\n",
              "      <th>2</th>\n",
              "      <td>F0903</td>\n",
              "      <td>4</td>\n",
              "    </tr>\n",
              "    <tr>\n",
              "      <th>3</th>\n",
              "      <td>F0997</td>\n",
              "      <td>4</td>\n",
              "    </tr>\n",
              "    <tr>\n",
              "      <th>4</th>\n",
              "      <td>F0769</td>\n",
              "      <td>7</td>\n",
              "    </tr>\n",
              "  </tbody>\n",
              "</table>\n",
              "</div>"
            ],
            "text/plain": [
              "  family_name member_count\n",
              "0       F0816            5\n",
              "1       F0245            5\n",
              "2       F0903            4\n",
              "3       F0997            4\n",
              "4       F0769            7"
            ]
          },
          "metadata": {},
          "execution_count": 64
        }
      ]
    },
    {
      "cell_type": "code",
      "metadata": {
        "id": "YGCDqMcy1wLR"
      },
      "source": [
        "# grouping the family member count table according to member count\n",
        "mem = family_member_df.groupby('member_count').size()"
      ],
      "execution_count": 140,
      "outputs": []
    },
    {
      "cell_type": "code",
      "metadata": {
        "colab": {
          "base_uri": "https://localhost:8080/",
          "height": 283
        },
        "id": "A5ETGxyu2GhM",
        "outputId": "3d00d4c9-d4f8-4d31-d945-dcfa53e5f857"
      },
      "source": [
        "# plotting a pie chart representing the share of families having different member counts\n",
        "mem.plot.pie(subplots = True)"
      ],
      "execution_count": 141,
      "outputs": [
        {
          "output_type": "execute_result",
          "data": {
            "text/plain": [
              "array([<matplotlib.axes._subplots.AxesSubplot object at 0x7f422addcc10>],\n",
              "      dtype=object)"
            ]
          },
          "metadata": {},
          "execution_count": 141
        },
        {
          "output_type": "display_data",
          "data": {
            "image/png": "[encoded data removed]",
            "text/plain": [
              "<Figure size 432x288 with 1 Axes>"
            ]
          },
          "metadata": {}
        }
      ]
    },
    {
      "cell_type": "code",
      "metadata": {
        "colab": {
          "base_uri": "https://localhost:8080/"
        },
        "id": "s7p4ZnAMGgC6",
        "outputId": "0776a5c7-f511-44d9-cc45-97822c7ef53b"
      },
      "source": [
        "mem"
      ],
      "execution_count": 142,
      "outputs": [
        {
          "output_type": "execute_result",
          "data": {
            "text/plain": [
              "member_count\n",
              "1       1\n",
              "2      48\n",
              "3      74\n",
              "4     118\n",
              "5      84\n",
              "6      59\n",
              "7      34\n",
              "8      19\n",
              "9      14\n",
              "10     11\n",
              "11      3\n",
              "12      1\n",
              "13      2\n",
              "15      1\n",
              "41      1\n",
              "dtype: int64"
            ]
          },
          "metadata": {},
          "execution_count": 142
        }
      ]
    },
    {
      "cell_type": "code",
      "metadata": {
        "id": "dBNGJwJX3Pvt"
      },
      "source": [
        "all_images = glob(train_url + \"*/*/*.jpg\")"
      ],
      "execution_count": 100,
      "outputs": []
    },
    {
      "cell_type": "code",
      "metadata": {
        "colab": {
          "base_uri": "https://localhost:8080/"
        },
        "id": "ezBuEDNu-Z5X",
        "outputId": "b3e02789-a639-47c0-d32d-1779dd3c82fb"
      },
      "source": [
        "print('The total number of images in the training dataset are {} '.format(len(all_images)))"
      ],
      "execution_count": 103,
      "outputs": [
        {
          "output_type": "stream",
          "name": "stdout",
          "text": [
            "The total number of images in the training dataset are 12379 \n"
          ]
        }
      ]
    },
    {
      "cell_type": "code",
      "metadata": {
        "id": "b3SOFdmV-6hq"
      },
      "source": [
        "family_member = []\n",
        "for x in all_images:\n",
        "  a = x.split('/')[-3] + '/' + x.split('/')[-2]\n",
        "  if a in family_member:\n",
        "    continue\n",
        "  else:\n",
        "    family_member.append(a) "
      ],
      "execution_count": 111,
      "outputs": []
    },
    {
      "cell_type": "code",
      "metadata": {
        "id": "L0tvvlCO_eiH"
      },
      "source": [
        "member_picture = {i:sorted(os.listdir(train_url+i)) for i in family_member}"
      ],
      "execution_count": 114,
      "outputs": []
    },
    {
      "cell_type": "code",
      "metadata": {
        "id": "hWpV0nTvBGfd"
      },
      "source": [
        ""
      ],
      "execution_count": 121,
      "outputs": []
    },
    {
      "cell_type": "code",
      "metadata": {
        "colab": {
          "base_uri": "https://localhost:8080/"
        },
        "id": "W6AN3aBABaal",
        "outputId": "70592a32-070b-4931-e2c5-700d84dd520e"
      },
      "source": [
        "print('the average number of pictures of a person is {} for the training dataset'.format(ceil(len(all_images)/member_count)))"
      ],
      "execution_count": 118,
      "outputs": [
        {
          "output_type": "stream",
          "name": "stdout",
          "text": [
            "the average number of pictures of a person is 6 for the training dataset\n"
          ]
        }
      ]
    },
    {
      "cell_type": "code",
      "metadata": {
        "id": "enXSax88B1_d"
      },
      "source": [
        "picture_count_per_member = []\n",
        "for i in member_picture:\n",
        "  picture_count_per_member.append(len(member_picture[i]))"
      ],
      "execution_count": 120,
      "outputs": []
    },
    {
      "cell_type": "code",
      "metadata": {
        "colab": {
          "base_uri": "https://localhost:8080/",
          "height": 435
        },
        "id": "WW83sXrtDXhB",
        "outputId": "73005d80-cbe3-4fc3-a9b7-5b5c03b69a62"
      },
      "source": [
        "# this is a bar graph of the first 10 families \n",
        "fig = plt.figure()\n",
        "ax = fig.add_axes([0,0,1,1])\n",
        "names = family_member[:15]\n",
        "number = picture_count_per_member[:15]\n",
        "plt.xlabel('Name of family_member')\n",
        "plt.ylabel('Number of pictures')\n",
        "ax.bar(names,number)\n",
        "plt.setp(ax.get_xticklabels(), rotation=30, horizontalalignment='right')\n",
        "fig.tight_layout()"
      ],
      "execution_count": 128,
      "outputs": [
        {
          "output_type": "stream",
          "name": "stderr",
          "text": [
            "/usr/local/lib/python3.7/dist-packages/ipykernel_launcher.py:10: UserWarning: This figure includes Axes that are not compatible with tight_layout, so results might be incorrect.\n",
            "  # Remove the CWD from sys.path while we load stuff.\n"
          ]
        },
        {
          "output_type": "display_data",
          "data": {
            "image/png": "[encoded data removed]",
            "text/plain": [
              "<Figure size 432x288 with 1 Axes>"
            ]
          },
          "metadata": {
            "needs_background": "light"
          }
        }
      ]
    },
    {
      "cell_type": "code",
      "metadata": {
        "id": "rIIMweSSCa95"
      },
      "source": [
        "# making a dictionary of family,member and picture count\n",
        "my_dict1 = {}\n",
        "my_dict1['family_member'] = family_member\n",
        "my_dict1['picture_count'] = picture_count_per_member"
      ],
      "execution_count": 132,
      "outputs": []
    },
    {
      "cell_type": "code",
      "metadata": {
        "id": "C50tTnWOFqwh"
      },
      "source": [
        "# making a dataframe of the family_member image count\n",
        "family_member_image_df =pd.DataFrame.from_dict(my_dict1,orient='index').transpose()"
      ],
      "execution_count": 134,
      "outputs": []
    },
    {
      "cell_type": "code",
      "metadata": {
        "id": "DpP6mHuVCefO"
      },
      "source": [
        "# grouping the family_member picture count table according to member count\n",
        "mem1 = family_member_image_df.groupby('picture_count').size()"
      ],
      "execution_count": 143,
      "outputs": []
    },
    {
      "cell_type": "code",
      "metadata": {
        "colab": {
          "base_uri": "https://localhost:8080/"
        },
        "id": "j37J8eiAGak6",
        "outputId": "f31e213b-2e0e-4419-993b-52f3ca6bc4b9"
      },
      "source": [
        "mem1"
      ],
      "execution_count": 144,
      "outputs": [
        {
          "output_type": "execute_result",
          "data": {
            "text/plain": [
              "picture_count\n",
              "1     409\n",
              "2     303\n",
              "3     262\n",
              "4     222\n",
              "5     206\n",
              "6     196\n",
              "7     191\n",
              "8     144\n",
              "9     124\n",
              "10     78\n",
              "11     38\n",
              "12     30\n",
              "13     23\n",
              "14     13\n",
              "15     11\n",
              "16     15\n",
              "17      2\n",
              "18     10\n",
              "19      7\n",
              "20      4\n",
              "21      3\n",
              "22      4\n",
              "23      1\n",
              "24      1\n",
              "25      3\n",
              "28      2\n",
              "33      5\n",
              "37      1\n",
              "40      1\n",
              "41      1\n",
              "43      1\n",
              "48      1\n",
              "63      1\n",
              "65      1\n",
              "82      1\n",
              "95      1\n",
              "dtype: int64"
            ]
          },
          "metadata": {},
          "execution_count": 144
        }
      ]
    },
    {
      "cell_type": "code",
      "metadata": {
        "colab": {
          "base_uri": "https://localhost:8080/"
        },
        "id": "bPguou4eGXG-",
        "outputId": "cef95be8-4296-49ac-ec25-05019c5f13e7"
      },
      "source": [
        "mem1.describe()"
      ],
      "execution_count": 145,
      "outputs": [
        {
          "output_type": "execute_result",
          "data": {
            "text/plain": [
              "count     36.000000\n",
              "mean      64.333333\n",
              "std      105.719575\n",
              "min        1.000000\n",
              "25%        1.000000\n",
              "50%        6.000000\n",
              "75%       89.500000\n",
              "max      409.000000\n",
              "dtype: float64"
            ]
          },
          "metadata": {},
          "execution_count": 145
        }
      ]
    },
    {
      "cell_type": "code",
      "metadata": {
        "colab": {
          "base_uri": "https://localhost:8080/",
          "height": 283
        },
        "id": "5JGAkhAtGNNc",
        "outputId": "2f96c56f-6007-42ab-efee-2463d9a8898a"
      },
      "source": [
        "mem1.plot.pie(subplots = True)"
      ],
      "execution_count": 146,
      "outputs": [
        {
          "output_type": "execute_result",
          "data": {
            "text/plain": [
              "array([<matplotlib.axes._subplots.AxesSubplot object at 0x7f422b0b1050>],\n",
              "      dtype=object)"
            ]
          },
          "metadata": {},
          "execution_count": 146
        },
        {
          "output_type": "display_data",
          "data": {
            "image/png": "[encoded data removed]",
            "text/plain": [
              "<Figure size 432x288 with 1 Axes>"
            ]
          },
          "metadata": {}
        }
      ]
    },
    {
      "cell_type": "code",
      "metadata": {
        "colab": {
          "base_uri": "https://localhost:8080/",
          "height": 301
        },
        "id": "czNOg4v8HFvw",
        "outputId": "7f69de12-9311-4702-fb5b-5074753ca664"
      },
      "source": [
        "mem1.plot.bar()"
      ],
      "execution_count": 150,
      "outputs": [
        {
          "output_type": "execute_result",
          "data": {
            "text/plain": [
              "<matplotlib.axes._subplots.AxesSubplot at 0x7f422b1a38d0>"
            ]
          },
          "metadata": {},
          "execution_count": 150
        },
        {
          "output_type": "display_data",
          "data": {
            "image/png": "[encoded data removed]",
            "text/plain": [
              "<Figure size 432x288 with 1 Axes>"
            ]
          },
          "metadata": {
            "needs_background": "light"
          }
        }
      ]
    },
    {
      "cell_type": "code",
      "metadata": {
        "colab": {
          "base_uri": "https://localhost:8080/",
          "height": 283
        },
        "id": "D3Ne-0D5HMJY",
        "outputId": "2d580421-efc6-4622-ba09-d145e008f7b4"
      },
      "source": [
        "mem1.plot.box()"
      ],
      "execution_count": 154,
      "outputs": [
        {
          "output_type": "execute_result",
          "data": {
            "text/plain": [
              "<matplotlib.axes._subplots.AxesSubplot at 0x7f422b3bad50>"
            ]
          },
          "metadata": {},
          "execution_count": 154
        },
        {
          "output_type": "display_data",
          "data": {
            "image/png": "[encoded data removed]",
            "text/plain": [
              "<Figure size 432x288 with 1 Axes>"
            ]
          },
          "metadata": {
            "needs_background": "light"
          }
        }
      ]
    },
    {
      "cell_type": "code",
      "metadata": {
        "id": "Y32Z1GiIHBgH"
      },
      "source": [
        "vgg_df = pd.read_excel('vgg_face_accuracy.xlsx')\n",
        "vgg_senet_df = pd.read_excel('vgg_senet_accuracy.xlsx')"
      ],
      "execution_count": 166,
      "outputs": []
    },
    {
      "cell_type": "code",
      "metadata": {
        "colab": {
          "base_uri": "https://localhost:8080/",
          "height": 206
        },
        "id": "Tkz3L8dqKskc",
        "outputId": "0a9fb821-5a1b-4624-f923-4abd26ea6666"
      },
      "source": [
        "vgg_df.head()"
      ],
      "execution_count": 167,
      "outputs": [
        {
          "output_type": "execute_result",
          "data": {
            "text/html": [
              "<div>\n",
              "<style scoped>\n",
              "    .dataframe tbody tr th:only-of-type {\n",
              "        vertical-align: middle;\n",
              "    }\n",
              "\n",
              "    .dataframe tbody tr th {\n",
              "        vertical-align: top;\n",
              "    }\n",
              "\n",
              "    .dataframe thead th {\n",
              "        text-align: right;\n",
              "    }\n",
              "</style>\n",
              "<table border=\"1\" class=\"dataframe\">\n",
              "  <thead>\n",
              "    <tr style=\"text-align: right;\">\n",
              "      <th></th>\n",
              "      <th>epoch</th>\n",
              "      <th>training_acc</th>\n",
              "      <th>validation_acc</th>\n",
              "    </tr>\n",
              "  </thead>\n",
              "  <tbody>\n",
              "    <tr>\n",
              "      <th>0</th>\n",
              "      <td>10</td>\n",
              "      <td>80.22</td>\n",
              "      <td>75.400</td>\n",
              "    </tr>\n",
              "    <tr>\n",
              "      <th>1</th>\n",
              "      <td>11</td>\n",
              "      <td>82.00</td>\n",
              "      <td>75.500</td>\n",
              "    </tr>\n",
              "    <tr>\n",
              "      <th>2</th>\n",
              "      <td>12</td>\n",
              "      <td>83.17</td>\n",
              "      <td>77.844</td>\n",
              "    </tr>\n",
              "    <tr>\n",
              "      <th>3</th>\n",
              "      <td>13</td>\n",
              "      <td>83.44</td>\n",
              "      <td>77.844</td>\n",
              "    </tr>\n",
              "    <tr>\n",
              "      <th>4</th>\n",
              "      <td>14</td>\n",
              "      <td>83.84</td>\n",
              "      <td>78.031</td>\n",
              "    </tr>\n",
              "  </tbody>\n",
              "</table>\n",
              "</div>"
            ],
            "text/plain": [
              "   epoch  training_acc  validation_acc\n",
              "0     10         80.22          75.400\n",
              "1     11         82.00          75.500\n",
              "2     12         83.17          77.844\n",
              "3     13         83.44          77.844\n",
              "4     14         83.84          78.031"
            ]
          },
          "metadata": {},
          "execution_count": 167
        }
      ]
    },
    {
      "cell_type": "code",
      "metadata": {
        "colab": {
          "base_uri": "https://localhost:8080/",
          "height": 206
        },
        "id": "uuu8nw8IK4Dc",
        "outputId": "5eb2922b-1962-4a4e-becf-f5e22ebfca6d"
      },
      "source": [
        "vgg_senet_df['training_acc'] = vgg_senet_df['training_acc'] * 100\n",
        "vgg_senet_df['val_acc'] = vgg_senet_df['val_acc'] * 100\n",
        "vgg_senet_df.head()"
      ],
      "execution_count": 172,
      "outputs": [
        {
          "output_type": "execute_result",
          "data": {
            "text/html": [
              "<div>\n",
              "<style scoped>\n",
              "    .dataframe tbody tr th:only-of-type {\n",
              "        vertical-align: middle;\n",
              "    }\n",
              "\n",
              "    .dataframe tbody tr th {\n",
              "        vertical-align: top;\n",
              "    }\n",
              "\n",
              "    .dataframe thead th {\n",
              "        text-align: right;\n",
              "    }\n",
              "</style>\n",
              "<table border=\"1\" class=\"dataframe\">\n",
              "  <thead>\n",
              "    <tr style=\"text-align: right;\">\n",
              "      <th></th>\n",
              "      <th>#epoch</th>\n",
              "      <th>training_acc</th>\n",
              "      <th>val_acc</th>\n",
              "    </tr>\n",
              "  </thead>\n",
              "  <tbody>\n",
              "    <tr>\n",
              "      <th>0</th>\n",
              "      <td>1</td>\n",
              "      <td>58.11</td>\n",
              "      <td>59.688</td>\n",
              "    </tr>\n",
              "    <tr>\n",
              "      <th>1</th>\n",
              "      <td>2</td>\n",
              "      <td>65.42</td>\n",
              "      <td>61.594</td>\n",
              "    </tr>\n",
              "    <tr>\n",
              "      <th>2</th>\n",
              "      <td>3</td>\n",
              "      <td>69.64</td>\n",
              "      <td>69.250</td>\n",
              "    </tr>\n",
              "    <tr>\n",
              "      <th>3</th>\n",
              "      <td>4</td>\n",
              "      <td>73.62</td>\n",
              "      <td>71.406</td>\n",
              "    </tr>\n",
              "    <tr>\n",
              "      <th>4</th>\n",
              "      <td>5</td>\n",
              "      <td>74.75</td>\n",
              "      <td>72.000</td>\n",
              "    </tr>\n",
              "  </tbody>\n",
              "</table>\n",
              "</div>"
            ],
            "text/plain": [
              "   #epoch  training_acc  val_acc\n",
              "0       1         58.11   59.688\n",
              "1       2         65.42   61.594\n",
              "2       3         69.64   69.250\n",
              "3       4         73.62   71.406\n",
              "4       5         74.75   72.000"
            ]
          },
          "metadata": {},
          "execution_count": 172
        }
      ]
    },
    {
      "cell_type": "code",
      "metadata": {
        "colab": {
          "base_uri": "https://localhost:8080/",
          "height": 301
        },
        "id": "Eyq-W9r1K9eO",
        "outputId": "70487785-5301-4616-db79-122fa6636377"
      },
      "source": [
        "# plotting line graph for vgg facenet model using resnet50\n",
        "ax = plt.gca()\n",
        "ax.set_ylim([0,100])\n",
        "plt.plot(vgg_df['epoch'],vgg_df['training_acc'])\n",
        "plt.plot(vgg_df['epoch'],vgg_df['validation_acc'])\n",
        "plt.xlabel('epoch')\n",
        "plt.ylabel('accuracy')\n",
        "ax.legend(['training_accuracy','validation_accuracy'])\n",
        "plt.plot()"
      ],
      "execution_count": 174,
      "outputs": [
        {
          "output_type": "execute_result",
          "data": {
            "text/plain": [
              "[]"
            ]
          },
          "metadata": {},
          "execution_count": 174
        },
        {
          "output_type": "display_data",
          "data": {
            "image/png": "[encoded data removed]",
            "text/plain": [
              "<Figure size 432x288 with 1 Axes>"
            ]
          },
          "metadata": {
            "needs_background": "light"
          }
        }
      ]
    },
    {
      "cell_type": "code",
      "metadata": {
        "colab": {
          "base_uri": "https://localhost:8080/",
          "height": 301
        },
        "id": "ZSHumJSnMeol",
        "outputId": "5e67b3bd-0dbb-43a3-d003-f949ee1b5f0f"
      },
      "source": [
        "# plotting line graph for vgg facenet model using senet\n",
        "ax = plt.gca()\n",
        "ax.set_ylim([0,100])\n",
        "plt.plot(vgg_senet_df['#epoch'],vgg_senet_df['training_acc'])\n",
        "plt.plot(vgg_senet_df['#epoch'],vgg_senet_df['val_acc'])\n",
        "plt.xlabel('epoch')\n",
        "plt.ylabel('accuracy')\n",
        "ax.legend(['training_accuracy','validation_accuracy'])\n",
        "plt.plot()"
      ],
      "execution_count": 173,
      "outputs": [
        {
          "output_type": "execute_result",
          "data": {
            "text/plain": [
              "[]"
            ]
          },
          "metadata": {},
          "execution_count": 173
        },
        {
          "output_type": "display_data",
          "data": {
            "image/png": "[encoded data removed]",
            "text/plain": [
              "<Figure size 432x288 with 1 Axes>"
            ]
          },
          "metadata": {
            "needs_background": "light"
          }
        }
      ]
    },
    {
      "cell_type": "code",
      "metadata": {
        "id": "pO6SbLryOSF6"
      },
      "source": [
        ""
      ],
      "execution_count": null,
      "outputs": []
    }
  ]
}